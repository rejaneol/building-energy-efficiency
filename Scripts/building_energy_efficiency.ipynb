{
 "cells": [
  {
   "cell_type": "markdown",
   "metadata": {},
   "source": [
    "# Eficiência Energética em Edificações \n",
    "## Uma aplicação de Machine Learning"
   ]
  },
  {
   "cell_type": "markdown",
   "metadata": {},
   "source": [
    "[building_energy_efficiency.py](./building_energy_efficiency.py): Eficiência energética: Previsão de demanda de energia para aquecimento e resfriamento em edificacoes \n",
    "\n",
    "@author: Rejane  \n",
    "@date\t  Setembro 2018  \n",
    "@version 1.0  \n",
    "\n",
    "> Objetivo: Avaliar a performance de métodos de previsão por Regressão Linear (incluindo tecnicas de regularizacao Lasso e Ridge), K-Nearest Neighbor e o metodo ensemble Gradient Boosting.  \n",
    "  "
   ]
  },
  {
   "cell_type": "markdown",
   "metadata": {},
   "source": [
    "## Importing Libraries"
   ]
  },
  {
   "cell_type": "code",
   "execution_count": 1,
   "metadata": {},
   "outputs": [],
   "source": [
    "# Importando pacotes\n",
    "import numpy as np\n",
    "import pandas as pd\n",
    "import matplotlib.pylab as plt\n",
    "%matplotlib inline\n",
    "import seaborn as sns"
   ]
  },
  {
   "cell_type": "code",
   "execution_count": 2,
   "metadata": {},
   "outputs": [],
   "source": [
    "# Importando pacotes\n",
    "from sklearn.model_selection import train_test_split\n",
    "from sklearn.neighbors import KNeighborsRegressor\n",
    "from sklearn.linear_model import LinearRegression, Ridge, Lasso, RidgeCV, LassoCV\n",
    "from sklearn import ensemble\n",
    "from sklearn.metrics import mean_squared_error, r2_score"
   ]
  },
  {
   "cell_type": "code",
   "execution_count": 3,
   "metadata": {},
   "outputs": [
    {
     "name": "stdout",
     "output_type": "stream",
     "text": [
      "numpy version: 1.14.3\n",
      "pandas version: 0.23.0\n"
     ]
    }
   ],
   "source": [
    "# Versões dos pacotes instalados na plataforma\n",
    "print(\"numpy version: %s\" % np.__version__)\n",
    "print(\"pandas version: %s\" % pd.__version__)\n",
    "#print(\"scikit-learn version: %s\" % sklearn.__version__)"
   ]
  },
  {
   "cell_type": "markdown",
   "metadata": {},
   "source": [
    "## Problem description "
   ]
  },
  {
   "cell_type": "markdown",
   "metadata": {},
   "source": [
    "A [base de dados](https://archive.ics.uci.edu/ml/datasets/Energy+efficiency) refere-se ao estudo de [Tsanas e Xifara (2012)](http://people.maths.ox.ac.uk/tsanas/Preprints/ENB2012.pdf) , em que foram realizados experimentos usando 12 edifícios de diferentes formas, para avaliação da eficiência energética em edificações como função dos parâmetros de construção. Os edifícios são diferentes no que diz respeito à área de vidros, a distribuição de área envidraçada e a sua orientação, entre outros parâmetros. Várias configurações foram realizadas, como funções das características acima mencionadas para obter 768 formas de construção. O dataset, portanto, é composto por 768 amostras e 8 características, com o objetivo de prever as duas respostas relativas aos requisitos de demanda energética, que são a demanda de energia para aquecimento (‘heating load’) e demanda de energia para resfriamento (‘cooling load’). "
   ]
  },
  {
   "cell_type": "markdown",
   "metadata": {},
   "source": [
    "## Loading dataset"
   ]
  },
  {
   "cell_type": "code",
   "execution_count": 4,
   "metadata": {},
   "outputs": [
    {
     "name": "stdout",
     "output_type": "stream",
     "text": [
      "Carrega a base de dados: Eficiencia energetica de edificacoes\n",
      "<class 'pandas.core.frame.DataFrame'>\n",
      "RangeIndex: 768 entries, 0 to 767\n",
      "Data columns (total 10 columns):\n",
      "X1    768 non-null float64\n",
      "X2    768 non-null float64\n",
      "X3    768 non-null float64\n",
      "X4    768 non-null float64\n",
      "X5    768 non-null float64\n",
      "X6    768 non-null int64\n",
      "X7    768 non-null float64\n",
      "X8    768 non-null int64\n",
      "Y1    768 non-null float64\n",
      "Y2    768 non-null float64\n",
      "dtypes: float64(8), int64(2)\n",
      "memory usage: 60.1 KB\n"
     ]
    }
   ],
   "source": [
    "# Carrega a base de dados (Referencia https://archive.ics.uci.edu/ml/datasets/Energy+efficiency)\n",
    "print(\"Carrega a base de dados: Eficiencia energetica de edificacoes\")\n",
    "data = pd.read_excel('../Dados/ENB2012_data.xlsx')\n",
    "data.info()"
   ]
  },
  {
   "cell_type": "code",
   "execution_count": 5,
   "metadata": {},
   "outputs": [
    {
     "data": {
      "text/html": [
       "<div>\n",
       "<style scoped>\n",
       "    .dataframe tbody tr th:only-of-type {\n",
       "        vertical-align: middle;\n",
       "    }\n",
       "\n",
       "    .dataframe tbody tr th {\n",
       "        vertical-align: top;\n",
       "    }\n",
       "\n",
       "    .dataframe thead th {\n",
       "        text-align: right;\n",
       "    }\n",
       "</style>\n",
       "<table border=\"1\" class=\"dataframe\">\n",
       "  <thead>\n",
       "    <tr style=\"text-align: right;\">\n",
       "      <th></th>\n",
       "      <th>X1</th>\n",
       "      <th>X2</th>\n",
       "      <th>X3</th>\n",
       "      <th>X4</th>\n",
       "      <th>X5</th>\n",
       "      <th>X6</th>\n",
       "      <th>X7</th>\n",
       "      <th>X8</th>\n",
       "      <th>Y1</th>\n",
       "      <th>Y2</th>\n",
       "    </tr>\n",
       "  </thead>\n",
       "  <tbody>\n",
       "    <tr>\n",
       "      <th>0</th>\n",
       "      <td>0.98</td>\n",
       "      <td>514.5</td>\n",
       "      <td>294.0</td>\n",
       "      <td>110.25</td>\n",
       "      <td>7.0</td>\n",
       "      <td>2</td>\n",
       "      <td>0.0</td>\n",
       "      <td>0</td>\n",
       "      <td>15.55</td>\n",
       "      <td>21.33</td>\n",
       "    </tr>\n",
       "    <tr>\n",
       "      <th>1</th>\n",
       "      <td>0.98</td>\n",
       "      <td>514.5</td>\n",
       "      <td>294.0</td>\n",
       "      <td>110.25</td>\n",
       "      <td>7.0</td>\n",
       "      <td>3</td>\n",
       "      <td>0.0</td>\n",
       "      <td>0</td>\n",
       "      <td>15.55</td>\n",
       "      <td>21.33</td>\n",
       "    </tr>\n",
       "    <tr>\n",
       "      <th>2</th>\n",
       "      <td>0.98</td>\n",
       "      <td>514.5</td>\n",
       "      <td>294.0</td>\n",
       "      <td>110.25</td>\n",
       "      <td>7.0</td>\n",
       "      <td>4</td>\n",
       "      <td>0.0</td>\n",
       "      <td>0</td>\n",
       "      <td>15.55</td>\n",
       "      <td>21.33</td>\n",
       "    </tr>\n",
       "    <tr>\n",
       "      <th>3</th>\n",
       "      <td>0.98</td>\n",
       "      <td>514.5</td>\n",
       "      <td>294.0</td>\n",
       "      <td>110.25</td>\n",
       "      <td>7.0</td>\n",
       "      <td>5</td>\n",
       "      <td>0.0</td>\n",
       "      <td>0</td>\n",
       "      <td>15.55</td>\n",
       "      <td>21.33</td>\n",
       "    </tr>\n",
       "    <tr>\n",
       "      <th>4</th>\n",
       "      <td>0.90</td>\n",
       "      <td>563.5</td>\n",
       "      <td>318.5</td>\n",
       "      <td>122.50</td>\n",
       "      <td>7.0</td>\n",
       "      <td>2</td>\n",
       "      <td>0.0</td>\n",
       "      <td>0</td>\n",
       "      <td>20.84</td>\n",
       "      <td>28.28</td>\n",
       "    </tr>\n",
       "  </tbody>\n",
       "</table>\n",
       "</div>"
      ],
      "text/plain": [
       "     X1     X2     X3      X4   X5  X6   X7  X8     Y1     Y2\n",
       "0  0.98  514.5  294.0  110.25  7.0   2  0.0   0  15.55  21.33\n",
       "1  0.98  514.5  294.0  110.25  7.0   3  0.0   0  15.55  21.33\n",
       "2  0.98  514.5  294.0  110.25  7.0   4  0.0   0  15.55  21.33\n",
       "3  0.98  514.5  294.0  110.25  7.0   5  0.0   0  15.55  21.33\n",
       "4  0.90  563.5  318.5  122.50  7.0   2  0.0   0  20.84  28.28"
      ]
     },
     "execution_count": 5,
     "metadata": {},
     "output_type": "execute_result"
    }
   ],
   "source": [
    "data.head()"
   ]
  },
  {
   "cell_type": "code",
   "execution_count": 6,
   "metadata": {},
   "outputs": [
    {
     "data": {
      "text/html": [
       "<div>\n",
       "<style scoped>\n",
       "    .dataframe tbody tr th:only-of-type {\n",
       "        vertical-align: middle;\n",
       "    }\n",
       "\n",
       "    .dataframe tbody tr th {\n",
       "        vertical-align: top;\n",
       "    }\n",
       "\n",
       "    .dataframe thead th {\n",
       "        text-align: right;\n",
       "    }\n",
       "</style>\n",
       "<table border=\"1\" class=\"dataframe\">\n",
       "  <thead>\n",
       "    <tr style=\"text-align: right;\">\n",
       "      <th></th>\n",
       "      <th>X1</th>\n",
       "      <th>X2</th>\n",
       "      <th>X3</th>\n",
       "      <th>X4</th>\n",
       "      <th>X5</th>\n",
       "      <th>X6</th>\n",
       "      <th>X7</th>\n",
       "      <th>X8</th>\n",
       "      <th>Y1</th>\n",
       "      <th>Y2</th>\n",
       "    </tr>\n",
       "  </thead>\n",
       "  <tbody>\n",
       "    <tr>\n",
       "      <th>763</th>\n",
       "      <td>0.64</td>\n",
       "      <td>784.0</td>\n",
       "      <td>343.0</td>\n",
       "      <td>220.5</td>\n",
       "      <td>3.5</td>\n",
       "      <td>5</td>\n",
       "      <td>0.4</td>\n",
       "      <td>5</td>\n",
       "      <td>17.88</td>\n",
       "      <td>21.40</td>\n",
       "    </tr>\n",
       "    <tr>\n",
       "      <th>764</th>\n",
       "      <td>0.62</td>\n",
       "      <td>808.5</td>\n",
       "      <td>367.5</td>\n",
       "      <td>220.5</td>\n",
       "      <td>3.5</td>\n",
       "      <td>2</td>\n",
       "      <td>0.4</td>\n",
       "      <td>5</td>\n",
       "      <td>16.54</td>\n",
       "      <td>16.88</td>\n",
       "    </tr>\n",
       "    <tr>\n",
       "      <th>765</th>\n",
       "      <td>0.62</td>\n",
       "      <td>808.5</td>\n",
       "      <td>367.5</td>\n",
       "      <td>220.5</td>\n",
       "      <td>3.5</td>\n",
       "      <td>3</td>\n",
       "      <td>0.4</td>\n",
       "      <td>5</td>\n",
       "      <td>16.44</td>\n",
       "      <td>17.11</td>\n",
       "    </tr>\n",
       "    <tr>\n",
       "      <th>766</th>\n",
       "      <td>0.62</td>\n",
       "      <td>808.5</td>\n",
       "      <td>367.5</td>\n",
       "      <td>220.5</td>\n",
       "      <td>3.5</td>\n",
       "      <td>4</td>\n",
       "      <td>0.4</td>\n",
       "      <td>5</td>\n",
       "      <td>16.48</td>\n",
       "      <td>16.61</td>\n",
       "    </tr>\n",
       "    <tr>\n",
       "      <th>767</th>\n",
       "      <td>0.62</td>\n",
       "      <td>808.5</td>\n",
       "      <td>367.5</td>\n",
       "      <td>220.5</td>\n",
       "      <td>3.5</td>\n",
       "      <td>5</td>\n",
       "      <td>0.4</td>\n",
       "      <td>5</td>\n",
       "      <td>16.64</td>\n",
       "      <td>16.03</td>\n",
       "    </tr>\n",
       "  </tbody>\n",
       "</table>\n",
       "</div>"
      ],
      "text/plain": [
       "       X1     X2     X3     X4   X5  X6   X7  X8     Y1     Y2\n",
       "763  0.64  784.0  343.0  220.5  3.5   5  0.4   5  17.88  21.40\n",
       "764  0.62  808.5  367.5  220.5  3.5   2  0.4   5  16.54  16.88\n",
       "765  0.62  808.5  367.5  220.5  3.5   3  0.4   5  16.44  17.11\n",
       "766  0.62  808.5  367.5  220.5  3.5   4  0.4   5  16.48  16.61\n",
       "767  0.62  808.5  367.5  220.5  3.5   5  0.4   5  16.64  16.03"
      ]
     },
     "execution_count": 6,
     "metadata": {},
     "output_type": "execute_result"
    }
   ],
   "source": [
    "data.tail()"
   ]
  },
  {
   "cell_type": "markdown",
   "metadata": {},
   "source": [
    "### Descrição do conjunto de dados\n",
    "\n",
    "O conjunto de dados contem oito atributos (ou 'features', indicados por X1...X8) e duas respostas (ou saídas, indicadas por y1 e y2). \n",
    "\n",
    "O objetivo é usar os oito atributos para prever cada uma das duas respostas.\n",
    "\n",
    "Especificamente: \n",
    "\n",
    "- X1\tRelative Compactness – Compactação relativa \n",
    "- X2\tSurface Area – Área de superfície \n",
    "- X3\tWall Area –Área de parede \n",
    "- X4\tRoof Area – Área de Telhado \n",
    "- X5\tOverall Height – Altura total \n",
    "- X6\tOrientation – Orientaçao (espacial) \n",
    "- X7\tGlazing Area – Área envidraçada \n",
    "- X8\tGlazing Area Distribution – Distribuição da área envidraçada \n",
    "- y1\tHeating Load – Demanda de energia para aquecimento \n",
    "- y2\tCooling Load – Demanda de energia para resfriamento "
   ]
  },
  {
   "cell_type": "markdown",
   "metadata": {},
   "source": [
    "## Data Exploration"
   ]
  },
  {
   "cell_type": "code",
   "execution_count": 7,
   "metadata": {},
   "outputs": [
    {
     "data": {
      "text/html": [
       "<div>\n",
       "<style scoped>\n",
       "    .dataframe tbody tr th:only-of-type {\n",
       "        vertical-align: middle;\n",
       "    }\n",
       "\n",
       "    .dataframe tbody tr th {\n",
       "        vertical-align: top;\n",
       "    }\n",
       "\n",
       "    .dataframe thead th {\n",
       "        text-align: right;\n",
       "    }\n",
       "</style>\n",
       "<table border=\"1\" class=\"dataframe\">\n",
       "  <thead>\n",
       "    <tr style=\"text-align: right;\">\n",
       "      <th></th>\n",
       "      <th>X1</th>\n",
       "      <th>X2</th>\n",
       "      <th>X3</th>\n",
       "      <th>X4</th>\n",
       "      <th>X5</th>\n",
       "      <th>X6</th>\n",
       "      <th>X7</th>\n",
       "      <th>X8</th>\n",
       "      <th>Y1</th>\n",
       "      <th>Y2</th>\n",
       "    </tr>\n",
       "  </thead>\n",
       "  <tbody>\n",
       "    <tr>\n",
       "      <th>count</th>\n",
       "      <td>768.000000</td>\n",
       "      <td>768.000000</td>\n",
       "      <td>768.000000</td>\n",
       "      <td>768.000000</td>\n",
       "      <td>768.00000</td>\n",
       "      <td>768.000000</td>\n",
       "      <td>768.000000</td>\n",
       "      <td>768.00000</td>\n",
       "      <td>768.000000</td>\n",
       "      <td>768.000000</td>\n",
       "    </tr>\n",
       "    <tr>\n",
       "      <th>mean</th>\n",
       "      <td>0.764167</td>\n",
       "      <td>671.708333</td>\n",
       "      <td>318.500000</td>\n",
       "      <td>176.604167</td>\n",
       "      <td>5.25000</td>\n",
       "      <td>3.500000</td>\n",
       "      <td>0.234375</td>\n",
       "      <td>2.81250</td>\n",
       "      <td>22.307195</td>\n",
       "      <td>24.587760</td>\n",
       "    </tr>\n",
       "    <tr>\n",
       "      <th>std</th>\n",
       "      <td>0.105777</td>\n",
       "      <td>88.086116</td>\n",
       "      <td>43.626481</td>\n",
       "      <td>45.165950</td>\n",
       "      <td>1.75114</td>\n",
       "      <td>1.118763</td>\n",
       "      <td>0.133221</td>\n",
       "      <td>1.55096</td>\n",
       "      <td>10.090204</td>\n",
       "      <td>9.513306</td>\n",
       "    </tr>\n",
       "    <tr>\n",
       "      <th>min</th>\n",
       "      <td>0.620000</td>\n",
       "      <td>514.500000</td>\n",
       "      <td>245.000000</td>\n",
       "      <td>110.250000</td>\n",
       "      <td>3.50000</td>\n",
       "      <td>2.000000</td>\n",
       "      <td>0.000000</td>\n",
       "      <td>0.00000</td>\n",
       "      <td>6.010000</td>\n",
       "      <td>10.900000</td>\n",
       "    </tr>\n",
       "    <tr>\n",
       "      <th>25%</th>\n",
       "      <td>0.682500</td>\n",
       "      <td>606.375000</td>\n",
       "      <td>294.000000</td>\n",
       "      <td>140.875000</td>\n",
       "      <td>3.50000</td>\n",
       "      <td>2.750000</td>\n",
       "      <td>0.100000</td>\n",
       "      <td>1.75000</td>\n",
       "      <td>12.992500</td>\n",
       "      <td>15.620000</td>\n",
       "    </tr>\n",
       "    <tr>\n",
       "      <th>50%</th>\n",
       "      <td>0.750000</td>\n",
       "      <td>673.750000</td>\n",
       "      <td>318.500000</td>\n",
       "      <td>183.750000</td>\n",
       "      <td>5.25000</td>\n",
       "      <td>3.500000</td>\n",
       "      <td>0.250000</td>\n",
       "      <td>3.00000</td>\n",
       "      <td>18.950000</td>\n",
       "      <td>22.080000</td>\n",
       "    </tr>\n",
       "    <tr>\n",
       "      <th>75%</th>\n",
       "      <td>0.830000</td>\n",
       "      <td>741.125000</td>\n",
       "      <td>343.000000</td>\n",
       "      <td>220.500000</td>\n",
       "      <td>7.00000</td>\n",
       "      <td>4.250000</td>\n",
       "      <td>0.400000</td>\n",
       "      <td>4.00000</td>\n",
       "      <td>31.667500</td>\n",
       "      <td>33.132500</td>\n",
       "    </tr>\n",
       "    <tr>\n",
       "      <th>max</th>\n",
       "      <td>0.980000</td>\n",
       "      <td>808.500000</td>\n",
       "      <td>416.500000</td>\n",
       "      <td>220.500000</td>\n",
       "      <td>7.00000</td>\n",
       "      <td>5.000000</td>\n",
       "      <td>0.400000</td>\n",
       "      <td>5.00000</td>\n",
       "      <td>43.100000</td>\n",
       "      <td>48.030000</td>\n",
       "    </tr>\n",
       "  </tbody>\n",
       "</table>\n",
       "</div>"
      ],
      "text/plain": [
       "               X1          X2          X3          X4         X5          X6  \\\n",
       "count  768.000000  768.000000  768.000000  768.000000  768.00000  768.000000   \n",
       "mean     0.764167  671.708333  318.500000  176.604167    5.25000    3.500000   \n",
       "std      0.105777   88.086116   43.626481   45.165950    1.75114    1.118763   \n",
       "min      0.620000  514.500000  245.000000  110.250000    3.50000    2.000000   \n",
       "25%      0.682500  606.375000  294.000000  140.875000    3.50000    2.750000   \n",
       "50%      0.750000  673.750000  318.500000  183.750000    5.25000    3.500000   \n",
       "75%      0.830000  741.125000  343.000000  220.500000    7.00000    4.250000   \n",
       "max      0.980000  808.500000  416.500000  220.500000    7.00000    5.000000   \n",
       "\n",
       "               X7         X8          Y1          Y2  \n",
       "count  768.000000  768.00000  768.000000  768.000000  \n",
       "mean     0.234375    2.81250   22.307195   24.587760  \n",
       "std      0.133221    1.55096   10.090204    9.513306  \n",
       "min      0.000000    0.00000    6.010000   10.900000  \n",
       "25%      0.100000    1.75000   12.992500   15.620000  \n",
       "50%      0.250000    3.00000   18.950000   22.080000  \n",
       "75%      0.400000    4.00000   31.667500   33.132500  \n",
       "max      0.400000    5.00000   43.100000   48.030000  "
      ]
     },
     "execution_count": 7,
     "metadata": {},
     "output_type": "execute_result"
    }
   ],
   "source": [
    "#Estatistica descritiva\n",
    "data.describe(include='all')"
   ]
  },
  {
   "cell_type": "code",
   "execution_count": 8,
   "metadata": {},
   "outputs": [
    {
     "data": {
      "image/png": "[encoded data removed]",
      "text/plain": [
       "<Figure size 864x360 with 2 Axes>"
      ]
     },
     "metadata": {},
     "output_type": "display_data"
    }
   ],
   "source": [
    "# Visualizacao variaveis target\n",
    "plt.subplot(121)\n",
    "data['Y1'].plot.hist(figsize=(12,5), alpha = 0.6, title = 'Heating Load – Demanda de energia para aquecimento')\n",
    "plt.subplot(122)\n",
    "data['Y2'].plot.hist(figsize=(12,5), alpha = 0.6, title = 'Cooling Load – Demanda de energia para resfriamento')\n",
    "plt.show()"
   ]
  },
  {
   "cell_type": "code",
   "execution_count": 9,
   "metadata": {},
   "outputs": [
    {
     "data": {
      "image/png": "[encoded data removed]",
      "text/plain": [
       "<Figure size 1440x180 with 8 Axes>"
      ]
     },
     "metadata": {},
     "output_type": "display_data"
    }
   ],
   "source": [
    "# Visualizacao features e target Y1\n",
    "sns.pairplot(data, x_vars=['X1', 'X2', 'X3', 'X4','X5', 'X6', 'X7', 'X8'], y_vars=['Y1'], kind=\"reg\")\n",
    "plt.show()"
   ]
  },
  {
   "cell_type": "code",
   "execution_count": 10,
   "metadata": {},
   "outputs": [
    {
     "data": {
      "image/png": "[encoded data removed]",
      "text/plain": [
       "<Figure size 1440x180 with 8 Axes>"
      ]
     },
     "metadata": {},
     "output_type": "display_data"
    }
   ],
   "source": [
    "# Visualizacao features e target Y2\n",
    "sns.pairplot(data, x_vars=['X1', 'X2', 'X3', 'X4','X5', 'X6', 'X7', 'X8'], y_vars=['Y2'], kind=\"reg\")\n",
    "plt.show()"
   ]
  },
  {
   "cell_type": "code",
   "execution_count": 11,
   "metadata": {},
   "outputs": [
    {
     "data": {
      "text/html": [
       "<div>\n",
       "<style scoped>\n",
       "    .dataframe tbody tr th:only-of-type {\n",
       "        vertical-align: middle;\n",
       "    }\n",
       "\n",
       "    .dataframe tbody tr th {\n",
       "        vertical-align: top;\n",
       "    }\n",
       "\n",
       "    .dataframe thead th {\n",
       "        text-align: right;\n",
       "    }\n",
       "</style>\n",
       "<table border=\"1\" class=\"dataframe\">\n",
       "  <thead>\n",
       "    <tr style=\"text-align: right;\">\n",
       "      <th></th>\n",
       "      <th>X1</th>\n",
       "      <th>X2</th>\n",
       "      <th>X3</th>\n",
       "      <th>X4</th>\n",
       "      <th>X5</th>\n",
       "      <th>X6</th>\n",
       "      <th>X7</th>\n",
       "      <th>X8</th>\n",
       "      <th>Y1</th>\n",
       "      <th>Y2</th>\n",
       "    </tr>\n",
       "  </thead>\n",
       "  <tbody>\n",
       "    <tr>\n",
       "      <th>X1</th>\n",
       "      <td>1.000</td>\n",
       "      <td>-0.992</td>\n",
       "      <td>-0.204</td>\n",
       "      <td>-0.869</td>\n",
       "      <td>0.828</td>\n",
       "      <td>0.000</td>\n",
       "      <td>0.000</td>\n",
       "      <td>0.000</td>\n",
       "      <td>0.622</td>\n",
       "      <td>0.634</td>\n",
       "    </tr>\n",
       "    <tr>\n",
       "      <th>X2</th>\n",
       "      <td>-0.992</td>\n",
       "      <td>1.000</td>\n",
       "      <td>0.196</td>\n",
       "      <td>0.881</td>\n",
       "      <td>-0.858</td>\n",
       "      <td>0.000</td>\n",
       "      <td>0.000</td>\n",
       "      <td>-0.000</td>\n",
       "      <td>-0.658</td>\n",
       "      <td>-0.673</td>\n",
       "    </tr>\n",
       "    <tr>\n",
       "      <th>X3</th>\n",
       "      <td>-0.204</td>\n",
       "      <td>0.196</td>\n",
       "      <td>1.000</td>\n",
       "      <td>-0.292</td>\n",
       "      <td>0.281</td>\n",
       "      <td>0.000</td>\n",
       "      <td>-0.000</td>\n",
       "      <td>0.000</td>\n",
       "      <td>0.456</td>\n",
       "      <td>0.427</td>\n",
       "    </tr>\n",
       "    <tr>\n",
       "      <th>X4</th>\n",
       "      <td>-0.869</td>\n",
       "      <td>0.881</td>\n",
       "      <td>-0.292</td>\n",
       "      <td>1.000</td>\n",
       "      <td>-0.973</td>\n",
       "      <td>0.000</td>\n",
       "      <td>-0.000</td>\n",
       "      <td>-0.000</td>\n",
       "      <td>-0.862</td>\n",
       "      <td>-0.863</td>\n",
       "    </tr>\n",
       "    <tr>\n",
       "      <th>X5</th>\n",
       "      <td>0.828</td>\n",
       "      <td>-0.858</td>\n",
       "      <td>0.281</td>\n",
       "      <td>-0.973</td>\n",
       "      <td>1.000</td>\n",
       "      <td>0.000</td>\n",
       "      <td>0.000</td>\n",
       "      <td>0.000</td>\n",
       "      <td>0.889</td>\n",
       "      <td>0.896</td>\n",
       "    </tr>\n",
       "    <tr>\n",
       "      <th>X6</th>\n",
       "      <td>0.000</td>\n",
       "      <td>0.000</td>\n",
       "      <td>0.000</td>\n",
       "      <td>0.000</td>\n",
       "      <td>0.000</td>\n",
       "      <td>1.000</td>\n",
       "      <td>0.000</td>\n",
       "      <td>0.000</td>\n",
       "      <td>-0.003</td>\n",
       "      <td>0.014</td>\n",
       "    </tr>\n",
       "    <tr>\n",
       "      <th>X7</th>\n",
       "      <td>0.000</td>\n",
       "      <td>0.000</td>\n",
       "      <td>-0.000</td>\n",
       "      <td>-0.000</td>\n",
       "      <td>0.000</td>\n",
       "      <td>0.000</td>\n",
       "      <td>1.000</td>\n",
       "      <td>0.213</td>\n",
       "      <td>0.270</td>\n",
       "      <td>0.208</td>\n",
       "    </tr>\n",
       "    <tr>\n",
       "      <th>X8</th>\n",
       "      <td>0.000</td>\n",
       "      <td>-0.000</td>\n",
       "      <td>0.000</td>\n",
       "      <td>-0.000</td>\n",
       "      <td>0.000</td>\n",
       "      <td>0.000</td>\n",
       "      <td>0.213</td>\n",
       "      <td>1.000</td>\n",
       "      <td>0.087</td>\n",
       "      <td>0.051</td>\n",
       "    </tr>\n",
       "    <tr>\n",
       "      <th>Y1</th>\n",
       "      <td>0.622</td>\n",
       "      <td>-0.658</td>\n",
       "      <td>0.456</td>\n",
       "      <td>-0.862</td>\n",
       "      <td>0.889</td>\n",
       "      <td>-0.003</td>\n",
       "      <td>0.270</td>\n",
       "      <td>0.087</td>\n",
       "      <td>1.000</td>\n",
       "      <td>0.976</td>\n",
       "    </tr>\n",
       "    <tr>\n",
       "      <th>Y2</th>\n",
       "      <td>0.634</td>\n",
       "      <td>-0.673</td>\n",
       "      <td>0.427</td>\n",
       "      <td>-0.863</td>\n",
       "      <td>0.896</td>\n",
       "      <td>0.014</td>\n",
       "      <td>0.208</td>\n",
       "      <td>0.051</td>\n",
       "      <td>0.976</td>\n",
       "      <td>1.000</td>\n",
       "    </tr>\n",
       "  </tbody>\n",
       "</table>\n",
       "</div>"
      ],
      "text/plain": [
       "       X1     X2     X3     X4     X5     X6     X7     X8     Y1     Y2\n",
       "X1  1.000 -0.992 -0.204 -0.869  0.828  0.000  0.000  0.000  0.622  0.634\n",
       "X2 -0.992  1.000  0.196  0.881 -0.858  0.000  0.000 -0.000 -0.658 -0.673\n",
       "X3 -0.204  0.196  1.000 -0.292  0.281  0.000 -0.000  0.000  0.456  0.427\n",
       "X4 -0.869  0.881 -0.292  1.000 -0.973  0.000 -0.000 -0.000 -0.862 -0.863\n",
       "X5  0.828 -0.858  0.281 -0.973  1.000  0.000  0.000  0.000  0.889  0.896\n",
       "X6  0.000  0.000  0.000  0.000  0.000  1.000  0.000  0.000 -0.003  0.014\n",
       "X7  0.000  0.000 -0.000 -0.000  0.000  0.000  1.000  0.213  0.270  0.208\n",
       "X8  0.000 -0.000  0.000 -0.000  0.000  0.000  0.213  1.000  0.087  0.051\n",
       "Y1  0.622 -0.658  0.456 -0.862  0.889 -0.003  0.270  0.087  1.000  0.976\n",
       "Y2  0.634 -0.673  0.427 -0.863  0.896  0.014  0.208  0.051  0.976  1.000"
      ]
     },
     "execution_count": 11,
     "metadata": {},
     "output_type": "execute_result"
    }
   ],
   "source": [
    "# Correlacao entre as variaveis\n",
    "round(data.corr(),3)"
   ]
  },
  {
   "cell_type": "markdown",
   "metadata": {},
   "source": [
    "A estatistica descritiva mostra medias e medianas relativamente proximas. Mas, como o conjunto de dados foi obtido por meio de experimentos, as variaveis relacionadas aos atributos nao possuem distribuicao normal aleatoria, mas possuem valores estabelecidos no planejamento do experimento. As variaveis resposta Y1 e Y2 tampouco possuem distribuicao normal: suas distribuicoes assemelham-se a bimodais (ver histogramas acima). \n",
    "\n",
    "O relacionamento entre as variaveis resposta e os atributos parecem seguir um padrao: positivo para os atributos X1, X3, X5 e X7; negativo para X2 e X4, e neutro para X6 e X8 (ver graficos de dispersao acima). Em outras palavras, quanto maiores a compactacao da construcao, a area de parede, a altura total, e a area envidracada, maior a demanda de energia, tanto para aquecimento quanto para resfriamento. Por outro lado, quanto menores a area de superficie e a area de telhado, menor a demanda energetica. A orientacao espacial da area envidracada e sua distribuicao aparentemente nao afetam a demanda de energia (a distribuicao afeta apenas ligeiramente).\n",
    "\n",
    "A matriz de correlacao mostra correlacoes positivas fortes (> 0,5) entre as duas variaveis resposta, e entre as variaveis resposta e os atributos X1 e X5, respectivamente, compactacao e altura total da construcao. Observa-se correlacoes negativas fortes (< 0,5) entre as variaveis resposta e X2 e X4, respectivamente, area de superficie e area de telhado. Entre os atributos, ha correlacoes fortes: \n",
    "- entre X1 e X2, X4 (negativas), X5 (positiva); \n",
    "- entre X2 e X4 (positiva), X5 (negativa); \n",
    "- entre X4 e X5 (negativa).\n",
    "\n",
    "Com isto, pode-se esperar que problemas de multicolinearidade e nao normalidade dos dados possam afetar a qualidade dos modelos estimados.\n",
    "\n",
    "A estatistica descritiva tambem mostra que os dados possuem valores de diferentes ordens de grandeza, como as colunas X1, X6, X7 e X8, que tem ordem de grandeza de unidade, as variaveis resposta da ordem de dezena, e as coluna X2, X3 e X4 com valores na ordem de centena. Isto pode indicar a necessidade de normalizacao dos dados."
   ]
  },
  {
   "cell_type": "markdown",
   "metadata": {},
   "source": [
    "## Data preparation"
   ]
  },
  {
   "cell_type": "code",
   "execution_count": 12,
   "metadata": {},
   "outputs": [],
   "source": [
    "# Separando as series para analise -  features(X) e target(y)\n",
    "\n",
    "X = data.iloc[:,0:(data.shape[1] - 2)]\n",
    "y1 = data.take([8], axis=1) \n",
    "y2 = data.take([9], axis=1) "
   ]
  },
  {
   "cell_type": "code",
   "execution_count": 13,
   "metadata": {},
   "outputs": [
    {
     "name": "stdout",
     "output_type": "stream",
     "text": [
      "<class 'pandas.core.frame.DataFrame'>\n",
      "RangeIndex: 768 entries, 0 to 767\n",
      "Data columns (total 8 columns):\n",
      "X1    768 non-null float64\n",
      "X2    768 non-null float64\n",
      "X3    768 non-null float64\n",
      "X4    768 non-null float64\n",
      "X5    768 non-null float64\n",
      "X6    768 non-null int64\n",
      "X7    768 non-null float64\n",
      "X8    768 non-null int64\n",
      "dtypes: float64(6), int64(2)\n",
      "memory usage: 48.1 KB\n",
      "None\n"
     ]
    },
    {
     "data": {
      "text/html": [
       "<div>\n",
       "<style scoped>\n",
       "    .dataframe tbody tr th:only-of-type {\n",
       "        vertical-align: middle;\n",
       "    }\n",
       "\n",
       "    .dataframe tbody tr th {\n",
       "        vertical-align: top;\n",
       "    }\n",
       "\n",
       "    .dataframe thead th {\n",
       "        text-align: right;\n",
       "    }\n",
       "</style>\n",
       "<table border=\"1\" class=\"dataframe\">\n",
       "  <thead>\n",
       "    <tr style=\"text-align: right;\">\n",
       "      <th></th>\n",
       "      <th>X1</th>\n",
       "      <th>X2</th>\n",
       "      <th>X3</th>\n",
       "      <th>X4</th>\n",
       "      <th>X5</th>\n",
       "      <th>X6</th>\n",
       "      <th>X7</th>\n",
       "      <th>X8</th>\n",
       "    </tr>\n",
       "  </thead>\n",
       "  <tbody>\n",
       "    <tr>\n",
       "      <th>0</th>\n",
       "      <td>0.98</td>\n",
       "      <td>514.5</td>\n",
       "      <td>294.0</td>\n",
       "      <td>110.25</td>\n",
       "      <td>7.0</td>\n",
       "      <td>2</td>\n",
       "      <td>0.0</td>\n",
       "      <td>0</td>\n",
       "    </tr>\n",
       "    <tr>\n",
       "      <th>1</th>\n",
       "      <td>0.98</td>\n",
       "      <td>514.5</td>\n",
       "      <td>294.0</td>\n",
       "      <td>110.25</td>\n",
       "      <td>7.0</td>\n",
       "      <td>3</td>\n",
       "      <td>0.0</td>\n",
       "      <td>0</td>\n",
       "    </tr>\n",
       "    <tr>\n",
       "      <th>2</th>\n",
       "      <td>0.98</td>\n",
       "      <td>514.5</td>\n",
       "      <td>294.0</td>\n",
       "      <td>110.25</td>\n",
       "      <td>7.0</td>\n",
       "      <td>4</td>\n",
       "      <td>0.0</td>\n",
       "      <td>0</td>\n",
       "    </tr>\n",
       "    <tr>\n",
       "      <th>3</th>\n",
       "      <td>0.98</td>\n",
       "      <td>514.5</td>\n",
       "      <td>294.0</td>\n",
       "      <td>110.25</td>\n",
       "      <td>7.0</td>\n",
       "      <td>5</td>\n",
       "      <td>0.0</td>\n",
       "      <td>0</td>\n",
       "    </tr>\n",
       "    <tr>\n",
       "      <th>4</th>\n",
       "      <td>0.90</td>\n",
       "      <td>563.5</td>\n",
       "      <td>318.5</td>\n",
       "      <td>122.50</td>\n",
       "      <td>7.0</td>\n",
       "      <td>2</td>\n",
       "      <td>0.0</td>\n",
       "      <td>0</td>\n",
       "    </tr>\n",
       "  </tbody>\n",
       "</table>\n",
       "</div>"
      ],
      "text/plain": [
       "     X1     X2     X3      X4   X5  X6   X7  X8\n",
       "0  0.98  514.5  294.0  110.25  7.0   2  0.0   0\n",
       "1  0.98  514.5  294.0  110.25  7.0   3  0.0   0\n",
       "2  0.98  514.5  294.0  110.25  7.0   4  0.0   0\n",
       "3  0.98  514.5  294.0  110.25  7.0   5  0.0   0\n",
       "4  0.90  563.5  318.5  122.50  7.0   2  0.0   0"
      ]
     },
     "execution_count": 13,
     "metadata": {},
     "output_type": "execute_result"
    }
   ],
   "source": [
    "print(X.info())\n",
    "X.head()"
   ]
  },
  {
   "cell_type": "code",
   "execution_count": 14,
   "metadata": {},
   "outputs": [
    {
     "name": "stdout",
     "output_type": "stream",
     "text": [
      "<class 'pandas.core.frame.DataFrame'>\n",
      "RangeIndex: 768 entries, 0 to 767\n",
      "Data columns (total 1 columns):\n",
      "Y1    768 non-null float64\n",
      "dtypes: float64(1)\n",
      "memory usage: 6.1 KB\n",
      "None\n"
     ]
    },
    {
     "data": {
      "text/html": [
       "<div>\n",
       "<style scoped>\n",
       "    .dataframe tbody tr th:only-of-type {\n",
       "        vertical-align: middle;\n",
       "    }\n",
       "\n",
       "    .dataframe tbody tr th {\n",
       "        vertical-align: top;\n",
       "    }\n",
       "\n",
       "    .dataframe thead th {\n",
       "        text-align: right;\n",
       "    }\n",
       "</style>\n",
       "<table border=\"1\" class=\"dataframe\">\n",
       "  <thead>\n",
       "    <tr style=\"text-align: right;\">\n",
       "      <th></th>\n",
       "      <th>Y1</th>\n",
       "    </tr>\n",
       "  </thead>\n",
       "  <tbody>\n",
       "    <tr>\n",
       "      <th>0</th>\n",
       "      <td>15.55</td>\n",
       "    </tr>\n",
       "    <tr>\n",
       "      <th>1</th>\n",
       "      <td>15.55</td>\n",
       "    </tr>\n",
       "    <tr>\n",
       "      <th>2</th>\n",
       "      <td>15.55</td>\n",
       "    </tr>\n",
       "    <tr>\n",
       "      <th>3</th>\n",
       "      <td>15.55</td>\n",
       "    </tr>\n",
       "    <tr>\n",
       "      <th>4</th>\n",
       "      <td>20.84</td>\n",
       "    </tr>\n",
       "  </tbody>\n",
       "</table>\n",
       "</div>"
      ],
      "text/plain": [
       "      Y1\n",
       "0  15.55\n",
       "1  15.55\n",
       "2  15.55\n",
       "3  15.55\n",
       "4  20.84"
      ]
     },
     "execution_count": 14,
     "metadata": {},
     "output_type": "execute_result"
    }
   ],
   "source": [
    "print(y1.info())\n",
    "y1.head()"
   ]
  },
  {
   "cell_type": "code",
   "execution_count": 15,
   "metadata": {},
   "outputs": [
    {
     "name": "stdout",
     "output_type": "stream",
     "text": [
      "<class 'pandas.core.frame.DataFrame'>\n",
      "RangeIndex: 768 entries, 0 to 767\n",
      "Data columns (total 1 columns):\n",
      "Y2    768 non-null float64\n",
      "dtypes: float64(1)\n",
      "memory usage: 6.1 KB\n",
      "None\n"
     ]
    },
    {
     "data": {
      "text/html": [
       "<div>\n",
       "<style scoped>\n",
       "    .dataframe tbody tr th:only-of-type {\n",
       "        vertical-align: middle;\n",
       "    }\n",
       "\n",
       "    .dataframe tbody tr th {\n",
       "        vertical-align: top;\n",
       "    }\n",
       "\n",
       "    .dataframe thead th {\n",
       "        text-align: right;\n",
       "    }\n",
       "</style>\n",
       "<table border=\"1\" class=\"dataframe\">\n",
       "  <thead>\n",
       "    <tr style=\"text-align: right;\">\n",
       "      <th></th>\n",
       "      <th>Y2</th>\n",
       "    </tr>\n",
       "  </thead>\n",
       "  <tbody>\n",
       "    <tr>\n",
       "      <th>0</th>\n",
       "      <td>21.33</td>\n",
       "    </tr>\n",
       "    <tr>\n",
       "      <th>1</th>\n",
       "      <td>21.33</td>\n",
       "    </tr>\n",
       "    <tr>\n",
       "      <th>2</th>\n",
       "      <td>21.33</td>\n",
       "    </tr>\n",
       "    <tr>\n",
       "      <th>3</th>\n",
       "      <td>21.33</td>\n",
       "    </tr>\n",
       "    <tr>\n",
       "      <th>4</th>\n",
       "      <td>28.28</td>\n",
       "    </tr>\n",
       "  </tbody>\n",
       "</table>\n",
       "</div>"
      ],
      "text/plain": [
       "      Y2\n",
       "0  21.33\n",
       "1  21.33\n",
       "2  21.33\n",
       "3  21.33\n",
       "4  28.28"
      ]
     },
     "execution_count": 15,
     "metadata": {},
     "output_type": "execute_result"
    }
   ],
   "source": [
    "print(y2.info())\n",
    "y2.head()"
   ]
  },
  {
   "cell_type": "code",
   "execution_count": 16,
   "metadata": {},
   "outputs": [],
   "source": [
    "# Inicialmente definindo 'target' como 'Heating Load'- y como y1\n",
    "# Separando o conjunto de dados de treino e de teste\n",
    "\n",
    "X_train, X_test, y_train, y_test = train_test_split(X, y1, test_size=0.1, random_state=0)"
   ]
  },
  {
   "cell_type": "markdown",
   "metadata": {},
   "source": [
    "## Modeling  \n",
    "\n",
    "São testados e comparados os modelos:\n",
    "- Modelo de K-vizinhos mais próximos (KNN)\n",
    "- Modelo de Regressão Linear\n",
    "- Modelo de Regressão Linear Ridge\n",
    "- Modelo de Regressão Linear Lasso\n",
    "- Ajuste de hiperparâmetros (alpha)\n",
    "- Modelo Ensemble (GradientBoostingRegressor)\n"
   ]
  },
  {
   "cell_type": "markdown",
   "metadata": {},
   "source": [
    "### Previsao de Heating Load  (target Y1)  \n",
    "A fase de análise exploratória de dados (‘Data Exploration’) mostrou uma semelhança muito grande entre dos fenômenos de demanda para aquecimento (‘Heating Load’) e demanda para resfriamento (‘Cooling Rate’), e, portanto, para fins de simplificação deste trabalho, os modelos serão gerados apenas para uma destas duas variáveis target, a saber, Heating Load (Y1). "
   ]
  },
  {
   "cell_type": "code",
   "execution_count": 17,
   "metadata": {},
   "outputs": [
    {
     "name": "stdout",
     "output_type": "stream",
     "text": [
      "Modelo KNN:\n",
      "Acurácia da base de treinamento: 0.96\n",
      "Acurácia da base de testes: 0.96\n",
      "r2:  0.9559\n",
      "MSE:  5.2539\n"
     ]
    }
   ],
   "source": [
    "# Cria um modelo de regressão com 3 vizinhos. Os valores default são:\n",
    "# KNeighborsRegressor(algorithm='auto', leaf_size=30, metric='minkowski',\n",
    "# metric_params=None, n_jobs=1, n_neighbors=3, p=2, weights='uniform')\n",
    "\n",
    "knreg = KNeighborsRegressor(n_neighbors=3)\n",
    "knreg.fit(X_train, y_train)\n",
    "\n",
    "y_pred = knreg.predict(X_test)\n",
    "\n",
    "print('Modelo KNN:')\n",
    "print(\"Acurácia da base de treinamento: {:.2f}\".format(knreg.score(X_train, y_train)))\n",
    "print(\"Acurácia da base de testes: {:.2f}\".format(knreg.score(X_test, y_test)))\n",
    "print('r2: ', round(r2_score(y_test, y_pred),4))\n",
    "print(\"MSE: \", round(mean_squared_error(y_test, y_pred),4))"
   ]
  },
  {
   "cell_type": "code",
   "execution_count": 18,
   "metadata": {},
   "outputs": [
    {
     "name": "stdout",
     "output_type": "stream",
     "text": [
      "Modelo Regressao Linear (dados nao normalizados):\n",
      "Acurácia da base de treinamento: 0.92\n",
      "Acurácia da base de testes: 0.89\n",
      "w[0]:  [-6.30752486e+01  1.06214920e+12 -1.06214920e+12 -2.12429840e+12\n",
      "  4.07217835e+00 -3.15397973e-02  1.95484195e+01  1.88433672e-01]\n",
      "b:  [82.29270043]\n",
      "r2:  0.895\n",
      "MSE:  12.5112\n"
     ]
    }
   ],
   "source": [
    "# Cria um modelo de regressão linear\n",
    "# Os valores default são: \n",
    "# LinearRegression(fit_intercept=True, normalize=False)\n",
    "\n",
    "lnr = LinearRegression().fit(X_train, y_train)\n",
    "\n",
    "y_pred = lnr.predict(X_test)\n",
    "\n",
    "print('Modelo Regressao Linear (dados nao normalizados):')\n",
    "print(\"Acurácia da base de treinamento: {:.2f}\".format(lnr.score(X_train, y_train)))\n",
    "print(\"Acurácia da base de testes: {:.2f}\".format(lnr.score(X_test, y_test)))\n",
    "print(\"w[0]: \",  lnr.coef_[0])\n",
    "print(\"b: \" , lnr.intercept_)\n",
    "print('r2: ', round(r2_score(y_test, y_pred),4))\n",
    "print(\"MSE: \", round(mean_squared_error(y_test, y_pred),4))"
   ]
  },
  {
   "cell_type": "code",
   "execution_count": 19,
   "metadata": {},
   "outputs": [
    {
     "name": "stdout",
     "output_type": "stream",
     "text": [
      "    0  Coeficiente Estimado\n",
      "0  X1         -6.307525e+01\n",
      "1  X2          1.062149e+12\n",
      "2  X3         -1.062149e+12\n",
      "3  X4         -2.124298e+12\n",
      "4  X5          4.072178e+00\n",
      "5  X6         -3.153980e-02\n",
      "6  X7          1.954842e+01\n",
      "7  X8          1.884337e-01\n"
     ]
    },
    {
     "data": {
      "image/png": "[encoded data removed]",
      "text/plain": [
       "<Figure size 432x288 with 1 Axes>"
      ]
     },
     "metadata": {},
     "output_type": "display_data"
    }
   ],
   "source": [
    "## visualizando coeficientes do modelo\n",
    "coef = pd.DataFrame(X_train.columns)\n",
    "coef['Coeficiente Estimado'] = pd.Series(lnr.coef_[0])\n",
    "print(coef)\n",
    "coef.plot(kind='bar', title='Coeficientes Regressao Linear s/norm.', sort_columns = False)\n",
    "plt.show()"
   ]
  },
  {
   "cell_type": "markdown",
   "metadata": {},
   "source": [
    "O eixo X representa os atributos X1 a X8. As barras representam os valores para os coeficientes estimados.  "
   ]
  },
  {
   "cell_type": "code",
   "execution_count": 20,
   "metadata": {},
   "outputs": [
    {
     "name": "stdout",
     "output_type": "stream",
     "text": [
      "Modelo Regressao Linear (dados normalizados):\n",
      "Acurácia da base de treinamento: 0.92\n",
      "Acurácia da base de testes: 0.89\n",
      "w[0]:  [-6.24330866e+01 -4.19498961e-02  1.79741675e-02 -8.83694775e-02\n",
      "  4.07387719e+00 -3.09884079e-02  1.95457977e+01  1.89320076e-01]\n",
      "b:  [81.64889581]\n",
      "r2:  0.8949\n",
      "MSE:  12.515\n"
     ]
    }
   ],
   "source": [
    "# Cria um modelo de regressão linear com dados normalizados\n",
    "\n",
    "lnr = LinearRegression(normalize=True).fit(X_train, y_train)\n",
    "\n",
    "y_pred = lnr.predict(X_test)\n",
    "\n",
    "print('Modelo Regressao Linear (dados normalizados):')\n",
    "print(\"Acurácia da base de treinamento: {:.2f}\".format(lnr.score(X_train, y_train)))\n",
    "print(\"Acurácia da base de testes: {:.2f}\".format(lnr.score(X_test, y_test)))\n",
    "print(\"w[0]: \",  lnr.coef_[0])\n",
    "print(\"b: \" , lnr.intercept_)\n",
    "print('r2: ', round(r2_score(y_test, y_pred),4))\n",
    "print(\"MSE: \", round(mean_squared_error(y_test, y_pred),4))"
   ]
  },
  {
   "cell_type": "code",
   "execution_count": 21,
   "metadata": {},
   "outputs": [
    {
     "name": "stdout",
     "output_type": "stream",
     "text": [
      "Modelo Regressao Linear Ridge (dados nao normalizados):\n",
      "Acurácia da base de treinamento: 0.91\n",
      "Acurácia da base de testes: 0.89\n",
      "\n",
      "Ridge: w: [[-4.39160625e+00  1.07517962e-02  3.59739187e-02 -1.26110611e-02\n",
      "   5.22459796e+00 -2.09316944e-02  1.80614014e+01  2.14682636e-01]]  b: [-23.01700357]\n",
      "Número de atributos usados: 8\n",
      "r2:  0.8877\n",
      "MSE:  13.3827\n"
     ]
    }
   ],
   "source": [
    "# Regularização e feature selection - Ridge\n",
    "\n",
    "ridge = Ridge(alpha=1).fit(X_train, y_train)\n",
    "y_pred = ridge.predict(X_test)\n",
    "\n",
    "print('Modelo Regressao Linear Ridge (dados nao normalizados):')\n",
    "print(\"Acurácia da base de treinamento: {:.2f}\".format(ridge.score(X_train, y_train)))\n",
    "print(\"Acurácia da base de testes: {:.2f}\".format(ridge.score(X_test, y_test)))\n",
    "print()\n",
    "print(\"Ridge: w: {}  b: {}\".format(ridge.coef_, ridge.intercept_))\n",
    "print(\"Número de atributos usados: {}\".format(np.sum(ridge.coef_ != 0)))\n",
    "print('r2: ', round(r2_score(y_test, y_pred),4))\n",
    "print(\"MSE: \", round(mean_squared_error(y_test, y_pred),4))"
   ]
  },
  {
   "cell_type": "code",
   "execution_count": 22,
   "metadata": {},
   "outputs": [
    {
     "name": "stdout",
     "output_type": "stream",
     "text": [
      "Modelo Regressao Linear Lasso (dados nao normalizados):\n",
      "Acurácia da base de treinamento: 0.80\n",
      "Acurácia da base de testes: 0.74\n",
      "\n",
      "Lasso: w: [-0.         -0.07680963  0.12619895 -0.02368391  0.          0.\n",
      "  0.          0.13856557]  b: [37.47483674]\n",
      "Número de atributos usados: 4\n",
      "r2:  0.7378\n",
      "MSE:  31.2327\n"
     ]
    }
   ],
   "source": [
    "# Regularização e feature selection - Lasso (Least Absolute Shrinkage Selector Operator)\n",
    "\n",
    "lasso = Lasso(alpha=1).fit(X_train, y_train)\n",
    "y_pred = lasso.predict(X_test)\n",
    "\n",
    "print('Modelo Regressao Linear Lasso (dados nao normalizados):')\n",
    "print(\"Acurácia da base de treinamento: {:.2f}\".format(lasso.score(X_train, y_train)))\n",
    "print(\"Acurácia da base de testes: {:.2f}\".format(lasso.score(X_test, y_test)))\n",
    "print()\n",
    "print(\"Lasso: w: {}  b: {}\".format(lasso.coef_, lasso.intercept_))\n",
    "print(\"Número de atributos usados: {}\".format(np.sum(lasso.coef_ != 0)))\n",
    "print('r2: ', round(r2_score(y_test, y_pred),4))\n",
    "print(\"MSE: \", round(mean_squared_error(y_test, y_pred),4))"
   ]
  },
  {
   "cell_type": "code",
   "execution_count": 23,
   "metadata": {},
   "outputs": [
    {
     "name": "stdout",
     "output_type": "stream",
     "text": [
      "Ridge 1\n",
      "Acurácia na base de treinamento: 0.91\n",
      "Acurácia na base de teste: 0.89\n",
      "r2:  0.8877\n",
      "MSE:  13.3827\n",
      "Número de atributos usados: 8\n",
      "\n",
      "Ridge 10\n",
      "Acurácia na base de treinamento: 0.90\n",
      "Acurácia na base de teste: 0.87\n",
      "r2:  0.8665\n",
      "MSE:  15.9033\n",
      "Número de atributos usados: 8\n",
      "\n",
      "Ridge .1\n",
      "Acurácia na base de treinamento: 0.92\n",
      "Acurácia na base de teste: 0.89\n",
      "r2:  0.8921\n",
      "MSE:  12.8475\n",
      "Número de atributos usados: 8\n"
     ]
    }
   ],
   "source": [
    "# Regularização e feature selection - Ridge - Ajuste de hiperparametros - sem normalizacao\n",
    "\n",
    "ridge = Ridge().fit(X_train, y_train) #default alpha = 1\n",
    "y_pred = ridge.predict(X_test)\n",
    "print(\"Ridge 1\")\n",
    "print(\"Acurácia na base de treinamento: {:.2f}\".format(ridge.score(X_train, y_train)))\n",
    "print(\"Acurácia na base de teste: {:.2f}\".format(ridge.score(X_test, y_test)))\n",
    "print('r2: ', round(r2_score(y_test, y_pred),4))\n",
    "print(\"MSE: \", round(mean_squared_error(y_test, y_pred),4))\n",
    "print(\"Número de atributos usados: {}\".format(np.sum(ridge.coef_ != 0)))\n",
    "print()\n",
    "\n",
    "\n",
    "ridge10 = Ridge(alpha=10).fit(X_train, y_train)\n",
    "y_pred = ridge10.predict(X_test)\n",
    "print(\"Ridge 10\")\n",
    "print(\"Acurácia na base de treinamento: {:.2f}\".format(ridge10.score(X_train, y_train)))\n",
    "print(\"Acurácia na base de teste: {:.2f}\".format(ridge10.score(X_test, y_test)))\n",
    "print('r2: ', round(r2_score(y_test, y_pred),4))\n",
    "print(\"MSE: \", round(mean_squared_error(y_test, y_pred),4))\n",
    "print(\"Número de atributos usados: {}\".format(np.sum(ridge.coef_ != 0)))\n",
    "print()\n",
    "\n",
    "ridge01 = Ridge(alpha=0.1).fit(X_train, y_train)\n",
    "y_pred = ridge01.predict(X_test)\n",
    "print(\"Ridge .1\")\n",
    "print(\"Acurácia na base de treinamento: {:.2f}\".format(ridge01.score(X_train, y_train)))\n",
    "print(\"Acurácia na base de teste: {:.2f}\".format(ridge01.score(X_test, y_test)))\n",
    "print('r2: ', round(r2_score(y_test, y_pred),4))\n",
    "print(\"MSE: \", round(mean_squared_error(y_test, y_pred),4))\n",
    "print(\"Número de atributos usados: {}\".format(np.sum(ridge.coef_ != 0)))"
   ]
  },
  {
   "cell_type": "code",
   "execution_count": 24,
   "metadata": {},
   "outputs": [
    {
     "name": "stdout",
     "output_type": "stream",
     "text": [
      "Ridge 1\n",
      "Acurácia na base de treinamento: 0.81\n",
      "Acurácia na base de teste: 0.75\n",
      "r2:  0.7485\n",
      "MSE:  29.9555\n",
      "Número de atributos usados: 8\n",
      "\n",
      "Ridge 10\n",
      "Acurácia na base de treinamento: 0.35\n",
      "Acurácia na base de teste: 0.31\n",
      "r2:  0.312\n",
      "MSE:  81.9545\n",
      "Número de atributos usados: 8\n",
      "\n",
      "Ridge .1\n",
      "Acurácia na base de treinamento: 0.90\n",
      "Acurácia na base de teste: 0.86\n",
      "r2:  0.8608\n",
      "MSE:  16.5792\n",
      "Número de atributos usados: 8\n"
     ]
    }
   ],
   "source": [
    "# Regularização e feature selection - Ridge - Ajuste de hiperparametros - com normalizacao\n",
    "\n",
    "ridge = Ridge(normalize=True).fit(X_train, y_train) #default alpha = 1\n",
    "y_pred = ridge.predict(X_test)\n",
    "print(\"Ridge 1\")\n",
    "print(\"Acurácia na base de treinamento: {:.2f}\".format(ridge.score(X_train, y_train)))\n",
    "print(\"Acurácia na base de teste: {:.2f}\".format(ridge.score(X_test, y_test)))\n",
    "print('r2: ', round(r2_score(y_test, y_pred),4))\n",
    "print(\"MSE: \", round(mean_squared_error(y_test, y_pred),4))\n",
    "print(\"Número de atributos usados: {}\".format(np.sum(ridge.coef_ != 0)))\n",
    "print()\n",
    "\n",
    "\n",
    "ridge10 = Ridge(alpha=10, normalize=True).fit(X_train, y_train)\n",
    "y_pred = ridge10.predict(X_test)\n",
    "print(\"Ridge 10\")\n",
    "print(\"Acurácia na base de treinamento: {:.2f}\".format(ridge10.score(X_train, y_train)))\n",
    "print(\"Acurácia na base de teste: {:.2f}\".format(ridge10.score(X_test, y_test)))\n",
    "print('r2: ', round(r2_score(y_test, y_pred),4))\n",
    "print(\"MSE: \", round(mean_squared_error(y_test, y_pred),4))\n",
    "print(\"Número de atributos usados: {}\".format(np.sum(ridge.coef_ != 0)))\n",
    "print()\n",
    "\n",
    "ridge01 = Ridge(alpha=0.1, normalize=True).fit(X_train, y_train)\n",
    "y_pred = ridge01.predict(X_test)\n",
    "print(\"Ridge .1\")\n",
    "print(\"Acurácia na base de treinamento: {:.2f}\".format(ridge01.score(X_train, y_train)))\n",
    "print(\"Acurácia na base de teste: {:.2f}\".format(ridge01.score(X_test, y_test)))\n",
    "print('r2: ', round(r2_score(y_test, y_pred),4))\n",
    "print(\"MSE: \", round(mean_squared_error(y_test, y_pred),4))\n",
    "print(\"Número de atributos usados: {}\".format(np.sum(ridge.coef_ != 0)))"
   ]
  },
  {
   "cell_type": "code",
   "execution_count": 25,
   "metadata": {},
   "outputs": [
    {
     "name": "stdout",
     "output_type": "stream",
     "text": [
      "Lasso 1\n",
      "Acurácia na base de treinamento: 0.80\n",
      "Acurácia na base de teste: 0.74\n",
      "r2:  0.7378\n",
      "MSE:  31.2327\n",
      "Número de atributos usados: 4\n",
      "\n",
      "Lasso .01\n",
      "Acurácia na base de treinamento: 0.91\n",
      "Acurácia na base de teste: 0.89\n",
      "r2:  0.8881\n",
      "MSE:  13.3344\n",
      "Número de atributos usados: 7\n",
      "\n",
      "Lasso .0001\n",
      "Acurácia na base de treinamento: 0.92\n",
      "Acurácia na base de teste: 0.89\n",
      "Número de atributos usados: 8\n"
     ]
    }
   ],
   "source": [
    "# Regularização e feature selection - Lasso - Ajuste de hiperparametros - sem normalizacao\n",
    "\n",
    "lasso = Lasso().fit(X_train, y_train) #default alpha = 1\n",
    "y_pred = lasso.predict(X_test)\n",
    "print(\"Lasso 1\")\n",
    "print(\"Acurácia na base de treinamento: {:.2f}\".format(lasso.score(X_train, y_train)))\n",
    "print(\"Acurácia na base de teste: {:.2f}\".format(lasso.score(X_test, y_test)))\n",
    "print('r2: ', round(r2_score(y_test, y_pred),4))\n",
    "print(\"MSE: \", round(mean_squared_error(y_test, y_pred),4))\n",
    "print(\"Número de atributos usados: {}\".format(np.sum(lasso.coef_ != 0)))\n",
    "print()\n",
    "\n",
    "lasso001 = Lasso(alpha=0.01, max_iter=100000).fit(X_train, y_train)\n",
    "y_pred = lasso001.predict(X_test)\n",
    "print(\"Lasso .01\")\n",
    "print(\"Acurácia na base de treinamento: {:.2f}\".format(lasso001.score(X_train, y_train)))\n",
    "print(\"Acurácia na base de teste: {:.2f}\".format(lasso001.score(X_test, y_test)))\n",
    "print('r2: ', round(r2_score(y_test, y_pred),4))\n",
    "print(\"MSE: \", round(mean_squared_error(y_test, y_pred),4))\n",
    "print(\"Número de atributos usados: {}\".format(np.sum(lasso001.coef_ != 0)))\n",
    "print()\n",
    "\n",
    "lasso00001 = Lasso(alpha=0.0001, max_iter=100000).fit(X_train, y_train)\n",
    "y_pred = lasso00001\n",
    "print(\"Lasso .0001\")\n",
    "print(\"Acurácia na base de treinamento: {:.2f}\".format(lasso00001.score(X_train, y_train)))\n",
    "print(\"Acurácia na base de teste: {:.2f}\".format(lasso00001.score(X_test, y_test)))\n",
    "#print('r2: ', round(r2_score(y_test, y_pred),4))\n",
    "#print(\"MSE: \", round(mean_squared_error(y_test, y_pred),4))\n",
    "print(\"Número de atributos usados: {}\".format(np.sum(lasso00001.coef_ != 0)))"
   ]
  },
  {
   "cell_type": "code",
   "execution_count": 26,
   "metadata": {},
   "outputs": [
    {
     "name": "stdout",
     "output_type": "stream",
     "text": [
      "Lasso 1\n",
      "Acurácia na base de treinamento: 0.00\n",
      "Acurácia na base de teste: -0.00\n",
      "r2:  -0.0002\n",
      "MSE:  119.1399\n",
      "Número de atributos usados: 0\n",
      "\n",
      "Lasso .01\n",
      "Acurácia na base de treinamento: 0.91\n",
      "Acurácia na base de teste: 0.88\n",
      "r2:  0.879\n",
      "MSE:  14.4168\n",
      "Número de atributos usados: 4\n",
      "\n",
      "Lasso .0001\n",
      "Acurácia na base de treinamento: 0.92\n",
      "Acurácia na base de teste: 0.89\n",
      "Número de atributos usados: 7\n"
     ]
    }
   ],
   "source": [
    "# Regularização e feature selection - Lasso - Ajuste de hiperparametros - com normalizacao\n",
    "\n",
    "lasso = Lasso(normalize=True).fit(X_train, y_train) #default alpha = 1\n",
    "y_pred = lasso.predict(X_test)\n",
    "print(\"Lasso 1\")\n",
    "print(\"Acurácia na base de treinamento: {:.2f}\".format(lasso.score(X_train, y_train)))\n",
    "print(\"Acurácia na base de teste: {:.2f}\".format(lasso.score(X_test, y_test)))\n",
    "print('r2: ', round(r2_score(y_test, y_pred),4))\n",
    "print(\"MSE: \", round(mean_squared_error(y_test, y_pred),4))\n",
    "print(\"Número de atributos usados: {}\".format(np.sum(lasso.coef_ != 0)))\n",
    "print()\n",
    "\n",
    "lasso001 = Lasso(alpha=0.01, max_iter=100000, normalize=True).fit(X_train, y_train)\n",
    "y_pred = lasso001.predict(X_test)\n",
    "print(\"Lasso .01\")\n",
    "print(\"Acurácia na base de treinamento: {:.2f}\".format(lasso001.score(X_train, y_train)))\n",
    "print(\"Acurácia na base de teste: {:.2f}\".format(lasso001.score(X_test, y_test)))\n",
    "print('r2: ', round(r2_score(y_test, y_pred),4))\n",
    "print(\"MSE: \", round(mean_squared_error(y_test, y_pred),4))\n",
    "print(\"Número de atributos usados: {}\".format(np.sum(lasso001.coef_ != 0)))\n",
    "print()\n",
    "\n",
    "lasso00001 = Lasso(alpha=0.0001, max_iter=100000, normalize=True).fit(X_train, y_train)\n",
    "y_pred = lasso00001\n",
    "print(\"Lasso .0001\")\n",
    "print(\"Acurácia na base de treinamento: {:.2f}\".format(lasso00001.score(X_train, y_train)))\n",
    "print(\"Acurácia na base de teste: {:.2f}\".format(lasso00001.score(X_test, y_test)))\n",
    "#print('r2: ', round(r2_score(y_test, y_pred),4))\n",
    "#print(\"MSE: \", round(mean_squared_error(y_test, y_pred),4))\n",
    "print(\"Número de atributos usados: {}\".format(np.sum(lasso00001.coef_ != 0)))"
   ]
  },
  {
   "cell_type": "code",
   "execution_count": 27,
   "metadata": {},
   "outputs": [
    {
     "name": "stdout",
     "output_type": "stream",
     "text": [
      "Acurácia na base de treinamento: 0.92\n",
      "Acurácia na base de teste: 0.89\n",
      "\n",
      "Os melhores parâmetros encontrados:\n",
      "[[[3.35760604e+01 3.37897277e+01 3.41724218e+01]]\n",
      "\n",
      " [[5.86586220e-01 3.92253769e-01 1.62400775e+00]]\n",
      "\n",
      " [[1.49790062e-02 1.70642506e-01 3.73675064e+00]]\n",
      "\n",
      " ...\n",
      "\n",
      " [[1.95606145e+00 2.49980370e+00 7.32475979e+00]]\n",
      "\n",
      " [[8.41326632e-04 2.99788275e-01 4.07853624e+00]]\n",
      "\n",
      " [[3.10948853e+01 2.82192759e+01 1.55906803e+01]]] \n",
      "\n",
      "0.1 \n",
      "\n",
      "Número de atributos usados: 8\n",
      "r2:  0.8921\n",
      "MSE:  12.8475\n"
     ]
    }
   ],
   "source": [
    "# Ajuste de hiperparametros Ridge sem normalizacao dos dados - busca do melhor alpha\n",
    "\n",
    "ridge_cv = RidgeCV(alphas=(0.1, 1.0, 10.0), normalize=False, store_cv_values=True).fit(X_train, y_train)\n",
    "y_pred = ridge_cv.predict(X_test)\n",
    "\n",
    "print(\"Acurácia na base de treinamento: {:.2f}\".format(ridge_cv.score(X_train, y_train)))\n",
    "print(\"Acurácia na base de teste: {:.2f}\".format(ridge_cv.score(X_test, y_test)))\n",
    "print()\n",
    "print(\"Os melhores parâmetros encontrados:\")\n",
    "print(ridge_cv.cv_values_,'\\n')\n",
    "print(ridge_cv.alpha_,'\\n')\n",
    "print(\"Número de atributos usados: {}\".format(np.sum(ridge_cv.coef_ != 0)))\n",
    "print('r2: ', round(r2_score(y_test, y_pred),4))\n",
    "print(\"MSE: \", round(mean_squared_error(y_test, y_pred),4))"
   ]
  },
  {
   "cell_type": "code",
   "execution_count": 28,
   "metadata": {},
   "outputs": [
    {
     "name": "stdout",
     "output_type": "stream",
     "text": [
      "    0  Coeficiente Estimado\n",
      "0  X1            -26.505430\n",
      "1  X2             -0.016472\n",
      "2  X3              0.036271\n",
      "3  X4             -0.026372\n",
      "4  X5              4.808607\n",
      "5  X6             -0.026487\n",
      "6  X7             19.422349\n",
      "7  X8              0.189966\n"
     ]
    },
    {
     "data": {
      "image/png": "[encoded data removed]",
      "text/plain": [
       "<Figure size 432x288 with 1 Axes>"
      ]
     },
     "metadata": {},
     "output_type": "display_data"
    }
   ],
   "source": [
    "# visualizando coeficientes do modelo\n",
    "coef = pd.DataFrame(X_train.columns)\n",
    "coef['Coeficiente Estimado'] = pd.Series(ridge_cv.coef_[0])\n",
    "print(coef)\n",
    "coef.plot(kind='bar', title='Coeficientes Ridge s/norm.', sort_columns = False)\n",
    "plt.show()"
   ]
  },
  {
   "cell_type": "code",
   "execution_count": 29,
   "metadata": {},
   "outputs": [
    {
     "name": "stdout",
     "output_type": "stream",
     "text": [
      "Acurácia na base de treinamento: 0.90\n",
      "Acurácia na base de teste: 0.86\n",
      "\n",
      "Os melhores parâmetros encontrados:\n",
      "[[[6.00487809e+01 1.09798561e+02 2.14220768e+02]]\n",
      "\n",
      " [[1.38052556e+00 1.27768495e-01 4.98556700e+01]]\n",
      "\n",
      " [[6.43289712e-02 2.92987336e+00 3.39935258e+01]]\n",
      "\n",
      " ...\n",
      "\n",
      " [[1.13604152e+00 1.34951896e+01 9.60002505e+01]]\n",
      "\n",
      " [[1.00358072e-02 2.73132564e+00 3.34368572e+01]]\n",
      "\n",
      " [[1.21569641e+01 1.15170338e-02 2.17744426e+01]]] \n",
      "\n",
      "0.1 \n",
      "\n",
      "Número de atributos usados: 8\n",
      "r2:  0.8608\n",
      "MSE:  16.5792\n"
     ]
    }
   ],
   "source": [
    "# Ajuste de hiperparametros Ridge com normalizacao dos dados - busca do melhor alpha\n",
    "\n",
    "ridge_cv = RidgeCV(alphas=(0.1, 1.0, 10.0), normalize=True, store_cv_values=True).fit(X_train, y_train)\n",
    "y_pred = ridge_cv.predict(X_test)\n",
    "\n",
    "print(\"Acurácia na base de treinamento: {:.2f}\".format(ridge_cv.score(X_train, y_train)))\n",
    "print(\"Acurácia na base de teste: {:.2f}\".format(ridge_cv.score(X_test, y_test)))\n",
    "print()\n",
    "print(\"Os melhores parâmetros encontrados:\")\n",
    "print(ridge_cv.cv_values_,'\\n')\n",
    "print(ridge_cv.alpha_,'\\n')\n",
    "print(\"Número de atributos usados: {}\".format(np.sum(ridge_cv.coef_ != 0)))\n",
    "print('r2: ', round(r2_score(y_test, y_pred),4))\n",
    "print(\"MSE: \", round(mean_squared_error(y_test, y_pred),4))"
   ]
  },
  {
   "cell_type": "code",
   "execution_count": 30,
   "metadata": {},
   "outputs": [
    {
     "name": "stderr",
     "output_type": "stream",
     "text": [
      "C:\\Users\\Rejane\\Anaconda3\\lib\\site-packages\\sklearn\\linear_model\\coordinate_descent.py:1094: DataConversionWarning: A column-vector y was passed when a 1d array was expected. Please change the shape of y to (n_samples, ), for example using ravel().\n",
      "  y = column_or_1d(y, warn=True)\n"
     ]
    },
    {
     "name": "stdout",
     "output_type": "stream",
     "text": [
      "Acurácia na base de treinamento: 0.83\n",
      "Acurácia na base de teste: 0.78\n",
      "\n",
      "Os melhores parâmetros encontrados:\n",
      "0.5842 \n",
      "\n",
      "[584.1846422  544.81255251 508.0940099  473.85017416 441.91425835\n",
      " 412.13071637 384.35448544 358.45027951 334.29193036 311.76177309\n",
      " 290.75007302 271.1544912  252.87958602 235.83634828 219.94176772\n",
      " 205.1184287  191.29413311 178.40154878 166.37788148 155.16456911\n",
      " 144.70699647 134.95422923 125.85876585 117.37630627 109.46553607\n",
      " 102.08792531  95.20754082  88.79087122  82.80666367  77.22577168\n",
      "  72.02101314  67.1670379   62.64020434  58.41846422  54.48125525\n",
      "  50.80940099  47.38501742  44.19142583  41.21307164  38.43544854\n",
      "  35.84502795  33.42919304  31.17617731  29.0750073   27.11544912\n",
      "  25.2879586   23.58363483  21.99417677  20.51184287  19.12941331\n",
      "  17.84015488  16.63778815  15.51645691  14.47069965  13.49542292\n",
      "  12.58587659  11.73763063  10.94655361  10.20879253   9.52075408\n",
      "   8.87908712   8.28066637   7.72257717   7.20210131   6.71670379\n",
      "   6.26402043   5.84184642   5.44812553   5.0809401    4.73850174\n",
      "   4.41914258   4.12130716   3.84354485   3.5845028    3.3429193\n",
      "   3.11761773   2.90750073   2.71154491   2.52879586   2.35836348\n",
      "   2.19941768   2.05118429   1.91294133   1.78401549   1.66377881\n",
      "   1.55164569   1.44706996   1.34954229   1.25858766   1.17376306\n",
      "   1.09465536   1.02087925   0.95207541   0.88790871   0.82806664\n",
      "   0.77225772   0.72021013   0.67167038   0.62640204   0.58418464] \n",
      "\n",
      "Número de atributos usados: 5\n",
      "r2:  0.7778\n",
      "MSE:  26.4631\n"
     ]
    }
   ],
   "source": [
    "# Ajuste de hiperparametros Lasso sem normalizacao dos dados - busca do melhor alpha\n",
    "\n",
    "lasso_cv = LassoCV(normalize=False, cv=5, random_state=0).fit(X_train, y_train)\n",
    "y_pred = lasso_cv.predict(X_test)\n",
    "\n",
    "print(\"Acurácia na base de treinamento: {:.2f}\".format(lasso_cv.score(X_train, y_train)))\n",
    "print(\"Acurácia na base de teste: {:.2f}\".format(lasso_cv.score(X_test, y_test)))\n",
    "print()\n",
    "print(\"Os melhores parâmetros encontrados:\")\n",
    "print(round(lasso_cv.alpha_,4),'\\n')\n",
    "print(lasso_cv.alphas_,'\\n')\n",
    "print(\"Número de atributos usados: {}\".format(np.sum(lasso_cv.coef_ != 0)))\n",
    "print('r2: ', round(r2_score(y_test, y_pred),4))\n",
    "print(\"MSE: \", round(mean_squared_error(y_test, y_pred),4))"
   ]
  },
  {
   "cell_type": "code",
   "execution_count": 31,
   "metadata": {},
   "outputs": [
    {
     "name": "stdout",
     "output_type": "stream",
     "text": [
      "    0  Coeficiente Estimado\n",
      "0  X1                  -0.0\n",
      "1  X2                   NaN\n",
      "2  X3                   NaN\n",
      "3  X4                   NaN\n",
      "4  X5                   NaN\n",
      "5  X6                   NaN\n",
      "6  X7                   NaN\n",
      "7  X8                   NaN\n"
     ]
    },
    {
     "data": {
      "image/png": "[encoded data removed]",
      "text/plain": [
       "<Figure size 432x288 with 1 Axes>"
      ]
     },
     "metadata": {},
     "output_type": "display_data"
    }
   ],
   "source": [
    "# visualizando coeficientes do modelo\n",
    "coef = pd.DataFrame(X_train.columns)\n",
    "coef['Coeficiente Estimado'] = pd.Series(lasso_cv.coef_[0])\n",
    "print(coef)\n",
    "coef.plot(kind='bar', title='Coeficientes Lasso s/norm.', sort_columns = False)\n",
    "plt.show()"
   ]
  },
  {
   "cell_type": "code",
   "execution_count": 32,
   "metadata": {},
   "outputs": [
    {
     "name": "stdout",
     "output_type": "stream",
     "text": [
      "Acurácia na base de treinamento: 0.92\n",
      "Acurácia na base de teste: 0.89\n",
      "\n",
      "Os melhores parâmetros encontrados:\n",
      "0.0003 \n",
      "\n",
      "[0.33883622 0.31599979 0.29470246 0.2748405  0.25631717 0.23904225\n",
      " 0.22293161 0.20790676 0.19389454 0.1808267  0.16863958 0.15727384\n",
      " 0.14667411 0.13678877 0.12756966 0.11897189 0.11095359 0.10347569\n",
      " 0.09650177 0.08999787 0.08393232 0.07827556 0.07300005 0.06808009\n",
      " 0.06349172 0.05921259 0.05522186 0.05150009 0.04802916 0.04479215\n",
      " 0.04177331 0.03895793 0.0363323  0.03388362 0.03159998 0.02947025\n",
      " 0.02748405 0.02563172 0.02390423 0.02229316 0.02079068 0.01938945\n",
      " 0.01808267 0.01686396 0.01572738 0.01466741 0.01367888 0.01275697\n",
      " 0.01189719 0.01109536 0.01034757 0.00965018 0.00899979 0.00839323\n",
      " 0.00782756 0.00730001 0.00680801 0.00634917 0.00592126 0.00552219\n",
      " 0.00515001 0.00480292 0.00447922 0.00417733 0.00389579 0.00363323\n",
      " 0.00338836 0.00316    0.00294702 0.00274841 0.00256317 0.00239042\n",
      " 0.00222932 0.00207907 0.00193895 0.00180827 0.0016864  0.00157274\n",
      " 0.00146674 0.00136789 0.0012757  0.00118972 0.00110954 0.00103476\n",
      " 0.00096502 0.00089998 0.00083932 0.00078276 0.00073    0.0006808\n",
      " 0.00063492 0.00059213 0.00055222 0.000515   0.00048029 0.00044792\n",
      " 0.00041773 0.00038958 0.00036332 0.00033884] \n",
      "\n",
      "Número de atributos usados: 8\n",
      "r2:  0.894\n",
      "MSE:  12.621\n"
     ]
    },
    {
     "name": "stderr",
     "output_type": "stream",
     "text": [
      "C:\\Users\\Rejane\\Anaconda3\\lib\\site-packages\\sklearn\\linear_model\\coordinate_descent.py:1094: DataConversionWarning: A column-vector y was passed when a 1d array was expected. Please change the shape of y to (n_samples, ), for example using ravel().\n",
      "  y = column_or_1d(y, warn=True)\n"
     ]
    }
   ],
   "source": [
    "# Ajuste de hiperparametros Lasso com normalizacao dos dados - busca do melhor alpha\n",
    "\n",
    "lasso_cv = LassoCV(normalize=True, cv=5, random_state=0).fit(X_train, y_train)\n",
    "y_pred = lasso_cv.predict(X_test)\n",
    "\n",
    "print(\"Acurácia na base de treinamento: {:.2f}\".format(lasso_cv.score(X_train, y_train)))\n",
    "print(\"Acurácia na base de teste: {:.2f}\".format(lasso_cv.score(X_test, y_test)))\n",
    "print()\n",
    "print(\"Os melhores parâmetros encontrados:\")\n",
    "print(round(lasso_cv.alpha_,4),'\\n')\n",
    "print(lasso_cv.alphas_,'\\n')\n",
    "print(\"Número de atributos usados: {}\".format(np.sum(lasso_cv.coef_ != 0)))\n",
    "print('r2: ', round(r2_score(y_test, y_pred),4))\n",
    "print(\"MSE: \", round(mean_squared_error(y_test, y_pred),4))"
   ]
  },
  {
   "cell_type": "code",
   "execution_count": 33,
   "metadata": {},
   "outputs": [
    {
     "name": "stdout",
     "output_type": "stream",
     "text": [
      "    0  Coeficiente Estimado\n",
      "0  X1            -48.600249\n",
      "1  X2                   NaN\n",
      "2  X3                   NaN\n",
      "3  X4                   NaN\n",
      "4  X5                   NaN\n",
      "5  X6                   NaN\n",
      "6  X7                   NaN\n",
      "7  X8                   NaN\n"
     ]
    },
    {
     "data": {
      "image/png": "[encoded data removed]",
      "text/plain": [
       "<Figure size 432x288 with 1 Axes>"
      ]
     },
     "metadata": {},
     "output_type": "display_data"
    }
   ],
   "source": [
    "# visualizando coeficientes do modelo\n",
    "coef = pd.DataFrame(X_train.columns)\n",
    "coef['Coeficiente Estimado'] = pd.Series(lasso_cv.coef_[0])\n",
    "print(coef)\n",
    "coef.plot(kind='bar', title='Coeficientes Lasso c/norm.', sort_columns = False)\n",
    "plt.show()"
   ]
  },
  {
   "cell_type": "code",
   "execution_count": 34,
   "metadata": {},
   "outputs": [
    {
     "name": "stderr",
     "output_type": "stream",
     "text": [
      "C:\\Users\\Rejane\\Anaconda3\\lib\\site-packages\\sklearn\\utils\\validation.py:578: DataConversionWarning: A column-vector y was passed when a 1d array was expected. Please change the shape of y to (n_samples, ), for example using ravel().\n",
      "  y = column_or_1d(y, warn=True)\n"
     ]
    },
    {
     "name": "stdout",
     "output_type": "stream",
     "text": [
      "Acurácia na base de treinamento: 1.00\n",
      "Acurácia na base de teste: 1.00\n",
      "r2:  0.9968\n",
      "MSE:  0.3845\n",
      "Número de atributos usados: 8\n"
     ]
    }
   ],
   "source": [
    "# Um modelo ensemble\n",
    "\n",
    "params = {'n_estimators': 500, 'max_depth': 4, 'min_samples_split': 2,'learning_rate': 0.01, 'loss': 'ls'}\n",
    "reg = ensemble.GradientBoostingRegressor(**params).fit(X_train, y_train)\n",
    "y_pred = reg.predict(X_test)\n",
    "\n",
    "print(\"Acurácia na base de treinamento: {:.2f}\".format(reg.score(X_train, y_train)))\n",
    "print(\"Acurácia na base de teste: {:.2f}\".format(reg.score(X_test, y_test)))\n",
    "print('r2: ', round(r2_score(y_test, y_pred),4))\n",
    "print(\"MSE: \", round(mean_squared_error(y_test, y_pred),4))\n",
    "print(\"Número de atributos usados: {}\".format(np.sum(reg.feature_importances_ != 0)))"
   ]
  },
  {
   "cell_type": "code",
   "execution_count": 35,
   "metadata": {},
   "outputs": [
    {
     "name": "stdout",
     "output_type": "stream",
     "text": [
      "    0  Coeficiente Estimado\n",
      "0  X1              0.284475\n",
      "1  X2              0.240971\n",
      "2  X3              0.076953\n",
      "3  X4              0.111619\n",
      "4  X5              0.115694\n",
      "5  X6              0.006661\n",
      "6  X7              0.126104\n",
      "7  X8              0.037523\n"
     ]
    },
    {
     "data": {
      "image/png": "[encoded data removed]",
      "text/plain": [
       "<Figure size 432x288 with 1 Axes>"
      ]
     },
     "metadata": {},
     "output_type": "display_data"
    }
   ],
   "source": [
    "# visualizando coeficientes do modelo\n",
    "coef = pd.DataFrame(X_train.columns)\n",
    "coef['Coeficiente Estimado'] = pd.Series(reg.feature_importances_)\n",
    "print(coef)\n",
    "coef.plot(kind='bar', title='Coeficientes Gradient Boosting', sort_columns = False)\n",
    "plt.show()"
   ]
  },
  {
   "cell_type": "markdown",
   "metadata": {},
   "source": [
    "Na figura acima, o eixo X representa os atributos X1 a X8, e as barras representam a importância dos atributos (‘Feature Importance’), e não é possível comparar seus valores absolutos com os outros gráficos.   "
   ]
  },
  {
   "cell_type": "markdown",
   "metadata": {},
   "source": [
    "Com base nas métricas de avaliação, observa-se que os modelos de Regressão Linear, Ridge e Lasso apresentaram desempenho inferior aos modelos KNN e Gradient Boosting (ensemble), com valores de r2 menores e erro quadrático médio (MSE) superiores. O melhor modelo, segundo as duas métricas, é o Gradient Boosting, testado aqui apenas para dados não-normalizados.  \n",
    "\n",
    "Para os modelos de Regressão Linear, Lasso e Ridge, ao contrário do esperado, a opção de trabalhar com dados normalizados não se mostrou vantajosa, pois as métricas de avaliação nestes casos apresentaram valores piores (MSE maiores, r2 menores). No caso do modelo Lasso com α = 1, o algoritmo nem mesmo consegue calcular os coeficientes, no caso de dados normalizados. No caso de Lasso com α = 0.0001, provavelmente alguma divisão por zero impede o cálculo das métricas r2 e MSE."
   ]
  },
  {
   "cell_type": "markdown",
   "metadata": {},
   "source": [
    "Pode-se observar uma grande discrepância entre os coeficientes estimados pelos modelos. Apenas o atributo X1 (compactação do edifício) é que aparece como o atributo com maior importância para todos os modelos. No caso do modelo Lasso (com o melhor α estimado), X1 tem tanto peso que somente este atributo é representado.  "
   ]
  },
  {
   "cell_type": "markdown",
   "metadata": {},
   "source": [
    "A área envidraçada (X7) aparece como o segundo atributo mais importante nos modelos de Regressão Linear e Ridge, mas em quarto lugar para o melhor modelo (Gradient Boosting). No estudo original de Tsanas e Xifara (2012), este foi o atributo mais importante, o que é intuitivo do ponto de vista dos princípios de construção de edificações, e os autores destacam que curiosamente a estatística descritiva não descreve uma correlação forte entre a área envidraçada e as variáveis resposta (o que também foi observado neste trabalho, embora a correlação calculada pelos autores tenha sido a de Spearman, enquanto aqui foi calculada a correlação de Pearson). Os autores empregam um algoritmo baseado em Random Forests, que segundo eles, consegue alcançar melhores resultados do que os algoritmos de regressão linear, ainda que estes sejam a opção mais óbvia por se tratar de dados de variáveis resposta númericas contínuas. Fato semelhante também foi observado neste trabalho, uma vez que os algoritmos de regressão linear, nem mesmo com regularização (Ridge e Lasso), mostraram resultados superiores."
   ]
  },
  {
   "cell_type": "markdown",
   "metadata": {},
   "source": [
    "## Conclusão\n",
    "\n",
    "Este trabalho teve o objetivo de aplicar os conhecimentos acerca de técnicas de Machine Learning, com a utilização de modelos sobre uma base de dados escolhida, no caso sobre eficiência energética em edificações em função dos atributos de construção.\n",
    "A ferramenta utilizada (Python e suas bibliotecas Pandas e SciKit Learn) mostrou-se adequada ao propósito do projeto, possibilitando a coleta e tratamento dos dados, visualizações, e construção de modelos de regressão para previsão, além da utilização de métricas para avaliação dos modelos.  \n",
    "\n",
    "Não houve grandes dificuldades para o desenvolvimento deste projeto, pois o conjunto de dados é bastante limpo, sem outliers ou dados de má qualidade. No entanto, pode ser aperfeiçoado o pipeline para geração e comparação dos modelos, de modo a tornar o código menos repetitivo.  \n",
    "\n",
    "Com relação ao método escolhido, conclui-se que a aplicação de Regressão Linear para dados de experimentos planejados (em que os atributos não seguem uma distribuição gaussiana) pode não levar a resultados tão robustos, ainda que o método de regressão seja a primeira opção por se tratar de um caso de variáveis resposta contínuas. O modelo Gradient Boosting mostrou-se como melhor alternativa."
   ]
  },
  {
   "cell_type": "markdown",
   "metadata": {},
   "source": [
    "### Referências  \n",
    "\n",
    "TSANAS, A. ,XIFARA, A.: 'Accurate quantitative estimation of energy performance of residential buildings using statistical machine learning tools', Energy and Buildings, Vol. 49, pp. 560-567, 2012. http://people.maths.ox.ac.uk/tsanas/Preprints/ENB2012.pdf  \n",
    "\n",
    "Energy efficiency Data Set. https://archive.ics.uci.edu/ml/datasets/Energy+efficiency\n"
   ]
  }
 ],
 "metadata": {
  "kernelspec": {
   "display_name": "Python 3",
   "language": "python",
   "name": "python3"
  },
  "language_info": {
   "codemirror_mode": {
    "name": "ipython",
    "version": 3
   },
   "file_extension": ".py",
   "mimetype": "text/x-python",
   "name": "python",
   "nbconvert_exporter": "python",
   "pygments_lexer": "ipython3",
   "version": "3.6.5"
  }
 },
 "nbformat": 4,
 "nbformat_minor": 2
}
